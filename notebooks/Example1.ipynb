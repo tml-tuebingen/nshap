{
 "cells": [
  {
   "cell_type": "markdown",
   "metadata": {},
   "source": [
    "# Example: n-Shapley Values for a Gradient Boosted Tree on the Folktables Income data set"
   ]
  },
  {
   "cell_type": "code",
   "execution_count": 1,
   "metadata": {},
   "outputs": [],
   "source": [
    "import xgboost\n",
    "\n",
    "from folktables import ACSDataSource, ACSIncome\n",
    "\n",
    "from sklearn.preprocessing import StandardScaler\n",
    "from sklearn.model_selection import train_test_split\n",
    "from sklearn.metrics import accuracy_score\n",
    "\n",
    "import matplotlib.pyplot as plt\n",
    "import seaborn as sns\n",
    "\n",
    "sns.set_style(\"whitegrid\")\n",
    "sns.set_context(\"notebook\", rc={'axes.linewidth': 2, 'grid.linewidth': 1},  font_scale=1.5)\n",
    "\n",
    "import nshap"
   ]
  },
  {
   "cell_type": "markdown",
   "metadata": {},
   "source": [
    "### Load the data"
   ]
  },
  {
   "cell_type": "code",
   "execution_count": 2,
   "metadata": {
    "tags": []
   },
   "outputs": [],
   "source": [
    "data_source = ACSDataSource(survey_year='2016',\n",
    "                            horizon = '1-Year', \n",
    "                            survey = 'person',\n",
    "                            root_dir = '../data/')\n",
    "data = data_source.get_data(states=[\"CA\"], download=True)\n",
    "X, Y, _ = ACSIncome.df_to_numpy(data)                            \n",
    "feature_names = ACSIncome.features\n",
    "    \n",
    "# zero mean and unit variance for all features\n",
    "X = StandardScaler().fit_transform(X)\n",
    "\n",
    "# train-test split\n",
    "X_train, X_test, Y_train, Y_test = train_test_split(X, Y, train_size=0.8, random_state=0)"
   ]
  },
  {
   "cell_type": "markdown",
   "metadata": {},
   "source": [
    "### Train the classifier"
   ]
  },
  {
   "cell_type": "code",
   "execution_count": 3,
   "metadata": {},
   "outputs": [
    {
     "name": "stdout",
     "output_type": "stream",
     "text": [
      "Accuracy: 0.831\n"
     ]
    }
   ],
   "source": [
    "gbtree = xgboost.XGBClassifier()\n",
    "gbtree.fit(X_train, Y_train)\n",
    "print(f'Accuracy: {accuracy_score(Y_test, gbtree.predict(X_test)):0.3f}')"
   ]
  },
  {
   "cell_type": "markdown",
   "metadata": {},
   "source": [
    "### Define the value function"
   ]
  },
  {
   "cell_type": "code",
   "execution_count": 4,
   "metadata": {},
   "outputs": [],
   "source": [
    "vfunc = nshap.vfunc.interventional_shap(gbtree.predict_proba, X_train, target=0)"
   ]
  },
  {
   "cell_type": "markdown",
   "metadata": {},
   "source": [
    "### Compute n-Shapley Values"
   ]
  },
  {
   "cell_type": "code",
   "execution_count": 6,
   "metadata": {},
   "outputs": [
    {
     "ename": "FileNotFoundError",
     "evalue": "[Errno 2] No such file or directory: 'n-shapley-values.json'",
     "output_type": "error",
     "traceback": [
      "\u001b[1;31m---------------------------------------------------------------------------\u001b[0m",
      "\u001b[1;31mFileNotFoundError\u001b[0m                         Traceback (most recent call last)",
      "File \u001b[1;32m<timed exec>:2\u001b[0m, in \u001b[0;36m<module>\u001b[1;34m\u001b[0m\n",
      "File \u001b[1;32mc:\\users\\sbord\\code\\tml-nshap\\src\\nshap\\util.py:75\u001b[0m, in \u001b[0;36mload\u001b[1;34m(fname)\u001b[0m\n\u001b[0;32m     66\u001b[0m \u001b[39mdef\u001b[39;00m \u001b[39mload\u001b[39m(fname):\n\u001b[0;32m     67\u001b[0m     \u001b[39m\"\"\"Load n-Shapley Values from a JSON file.\u001b[39;00m\n\u001b[0;32m     68\u001b[0m \n\u001b[0;32m     69\u001b[0m \u001b[39m    Args:\u001b[39;00m\n\u001b[1;32m   (...)\u001b[0m\n\u001b[0;32m     73\u001b[0m \u001b[39m        nshap.nShapleyValues: The loaded n-Shapley Values values.\u001b[39;00m\n\u001b[0;32m     74\u001b[0m \u001b[39m    \"\"\"\u001b[39;00m\n\u001b[1;32m---> 75\u001b[0m     \u001b[39mwith\u001b[39;00m \u001b[39mopen\u001b[39;49m(fname, \u001b[39m\"\u001b[39;49m\u001b[39mr\u001b[39;49m\u001b[39m\"\u001b[39;49m) \u001b[39mas\u001b[39;00m fp:\n\u001b[0;32m     76\u001b[0m         str_dump \u001b[39m=\u001b[39m json\u001b[39m.\u001b[39mload(fp)\n\u001b[0;32m     77\u001b[0m     \u001b[39m# convert the string tuples to integer tuples\u001b[39;00m\n",
      "\u001b[1;31mFileNotFoundError\u001b[0m: [Errno 2] No such file or directory: 'n-shapley-values.json'"
     ]
    }
   ],
   "source": [
    "%%time\n",
    "#n_shapley_values = nshap.n_shapley_values(X_test[0, :], vfunc)\n",
    "n_shapley_values = nshap.load('n-shapley-values.json')"
   ]
  },
  {
   "cell_type": "code",
   "execution_count": null,
   "metadata": {
    "tags": []
   },
   "outputs": [],
   "source": [
    "n_shapley_values.plot(feature_names = feature_names)"
   ]
  },
  {
   "cell_type": "markdown",
   "metadata": {},
   "source": [
    "#### From the n-Shapley Values, we can obtain the 3-Shapley Values"
   ]
  },
  {
   "cell_type": "code",
   "execution_count": null,
   "metadata": {},
   "outputs": [],
   "source": [
    "n_shapley_values.k_shapley_values(3).plot(feature_names = feature_names)\n",
    "plt.show()"
   ]
  },
  {
   "cell_type": "markdown",
   "metadata": {},
   "source": [
    "#### ... Shapley Interaction Values"
   ]
  },
  {
   "cell_type": "code",
   "execution_count": null,
   "metadata": {},
   "outputs": [],
   "source": [
    "n_shapley_values.k_shapley_values(2).plot(feature_names = feature_names)"
   ]
  },
  {
   "cell_type": "markdown",
   "metadata": {
    "tags": []
   },
   "source": [
    "#### ... and the usual Shapley Values"
   ]
  },
  {
   "cell_type": "code",
   "execution_count": null,
   "metadata": {},
   "outputs": [],
   "source": [
    "import shap\n",
    "shap.initjs()"
   ]
  },
  {
   "cell_type": "code",
   "execution_count": null,
   "metadata": {},
   "outputs": [],
   "source": [
    "shap.force_plot(vfunc(X_test[0,:], []), n_shapley_values.shapley_values())"
   ]
  },
  {
   "cell_type": "markdown",
   "metadata": {
    "tags": []
   },
   "source": [
    "### Let's compare this to the Shapley Values from the shap package"
   ]
  },
  {
   "cell_type": "code",
   "execution_count": null,
   "metadata": {},
   "outputs": [],
   "source": [
    "explainer = shap.KernelExplainer(gbtree.predict_proba, shap.kmeans(X_train, 25))\n",
    "\n",
    "shap_values = explainer.shap_values(X_test[0, :])"
   ]
  },
  {
   "cell_type": "code",
   "execution_count": null,
   "metadata": {},
   "outputs": [],
   "source": [
    "shap.force_plot(explainer.expected_value[0], shap_values[0])"
   ]
  }
 ],
 "metadata": {
  "kernelspec": {
   "display_name": "base",
   "language": "python",
   "name": "python3"
  },
  "language_info": {
   "codemirror_mode": {
    "name": "ipython",
    "version": 3
   },
   "file_extension": ".py",
   "mimetype": "text/x-python",
   "name": "python",
   "nbconvert_exporter": "python",
   "pygments_lexer": "ipython3",
   "version": "3.9.12 (main, Apr  4 2022, 05:22:27) [MSC v.1916 64 bit (AMD64)]"
  },
  "vscode": {
   "interpreter": {
    "hash": "62406f3c2942480da828869ab3f3f95d1c0177b3689d5bc770f3ddfd7b9b3df5"
   }
  }
 },
 "nbformat": 4,
 "nbformat_minor": 5
}
