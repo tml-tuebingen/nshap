{
 "cells": [
  {
   "attachments": {},
   "cell_type": "markdown",
   "metadata": {},
   "source": [
    "# Example 3: Custom value functions\n",
    "#### These examples are from section 5.1 of the Faith-Shap paper: https://arxiv.org/abs/2203.00870"
   ]
  },
  {
   "cell_type": "code",
   "execution_count": 4,
   "id": "c10cfd76",
   "metadata": {},
   "outputs": [],
   "source": [
    "import seaborn as sns\n",
    "\n",
    "sns.set_style(\"whitegrid\")\n",
    "sns.set_context(\"notebook\", rc={'axes.linewidth': 2, 'grid.linewidth': 1},  font_scale=1.5)\n",
    "\n",
    "import numpy as np\n",
    "import math\n",
    "\n",
    "import nshap"
   ]
  },
  {
   "attachments": {},
   "cell_type": "markdown",
   "id": "f0b5f063",
   "metadata": {},
   "source": [
    "### Example 1\n",
    "##### A value function takes two arguments: A single data point x (a numpy.ndarray) and a python list S with the indices the the coordinates that belong to the coaltion.\n",
    "##### In this example, the value does not actually depend on the point x, but we use it in order to indicate the dimension of the problem"
   ]
  },
  {
   "cell_type": "code",
   "execution_count": 3,
   "id": "44978e93",
   "metadata": {
    "tags": []
   },
   "outputs": [
    {
     "data": {
      "text/plain": [
       "3.4"
      ]
     },
     "execution_count": 3,
     "metadata": {},
     "output_type": "execute_result"
    }
   ],
   "source": [
    "p = 0.1\n",
    "def v_func(x, S):\n",
    "    \"\"\" The value function from Example 1 in the Faith-Shap paper.\n",
    "    \"\"\"\n",
    "    if len(S) <= 1:\n",
    "        return 0\n",
    "    return len(S) - p * math.comb(len(S),2)\n",
    "\n",
    "\n",
    "v_func(None, [1,2,3,4])"
   ]
  },
  {
   "attachments": {},
   "cell_type": "markdown",
   "id": "86a0f974",
   "metadata": {},
   "source": [
    "##### Equipped with the value function, we can compute different kinds of interaction indices"
   ]
  },
  {
   "cell_type": "code",
   "execution_count": 14,
   "id": "d4bcee91",
   "metadata": {},
   "outputs": [
    {
     "name": "stdout",
     "output_type": "stream",
     "text": [
      "Table 1 in the Faith-Shap paper:\n",
      "\n",
      "Faith-Shap:  0.9545454545463214 -0.09090909090923938\n",
      "Shapley Taylor:  0 0.10000000000002415\n"
     ]
    }
   ],
   "source": [
    "# p = 0.1 and maximum interaction order 2\n",
    "faith_shap = nshap.faith_shap(np.zeros((1,11)), v_func, 2)\n",
    "shapley_taylor = nshap.shapley_taylor(np.zeros((1,11)), v_func, 2)\n",
    "shapley_interaction = nshap.shapley_interaction_index(np.zeros((1,11)), v_func, 2)\n",
    "\n",
    "#print(shapley_interaction[(1,2)])\n",
    "print('Table 1 in the Faith-Shap paper:\\n')\n",
    "print('Faith-Shap: ', faith_shap[(0,)], faith_shap[(0,1)])\n",
    "print('Shapley Taylor: ', shapley_taylor[(0,)], shapley_taylor[(0,1)])\n",
    "print('Interaction Shapley: ', shapley_taylor[(0,)], shapley_taylor[(0,1)])"
   ]
  }
 ],
 "metadata": {
  "kernelspec": {
   "display_name": "Python 3.9.12 ('base')",
   "language": "python",
   "name": "python3"
  },
  "language_info": {
   "codemirror_mode": {
    "name": "ipython",
    "version": 3
   },
   "file_extension": ".py",
   "mimetype": "text/x-python",
   "name": "python",
   "nbconvert_exporter": "python",
   "pygments_lexer": "ipython3",
   "version": "3.9.12"
  },
  "vscode": {
   "interpreter": {
    "hash": "62406f3c2942480da828869ab3f3f95d1c0177b3689d5bc770f3ddfd7b9b3df5"
   }
  }
 },
 "nbformat": 4,
 "nbformat_minor": 5
}
