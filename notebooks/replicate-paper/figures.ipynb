{
 "cells": [
  {
   "cell_type": "markdown",
   "metadata": {},
   "source": [
    "# Generate the Figures in the Paper"
   ]
  },
  {
   "cell_type": "code",
   "execution_count": null,
   "metadata": {},
   "outputs": [],
   "source": [
    "import numpy as np\n",
    "\n",
    "import os\n",
    "import sklearn\n",
    "from interpret.glassbox import ExplainableBoostingClassifier\n",
    "\n",
    "from itertools import product\n",
    "\n",
    "import matplotlib.pyplot as plt\n",
    "import seaborn as sns\n",
    "\n",
    "import datasets\n",
    "import paperutil\n",
    "import nshap\n",
    "\n",
    "%load_ext autoreload\n",
    "%autoreload 2"
   ]
  },
  {
   "cell_type": "markdown",
   "metadata": {},
   "source": [
    "### Load the computed n-Shapley Values"
   ]
  },
  {
   "cell_type": "code",
   "execution_count": null,
   "metadata": {},
   "outputs": [],
   "source": [
    "data_sets = ['folk_income', 'folk_travel', 'housing', 'credit', 'iris']\n",
    "classifiers = ['gam', 'rf', 'gbtree', 'knn']\n",
    "methods = ['predict', 'proba', 'decision']"
   ]
  },
  {
   "cell_type": "code",
   "execution_count": null,
   "metadata": {
    "tags": []
   },
   "outputs": [],
   "source": [
    "shapley_values = {}\n",
    "for dataset in data_sets:\n",
    "    X_train, X_test, _, _, _ = datasets.load_dataset(dataset)\n",
    "    shapley_values[dataset] = {}\n",
    "    num_datapoints = min(5000, X_train.shape[0]) \n",
    "    for classifier in classifiers:\n",
    "        shapley_values[dataset][classifier] = {}\n",
    "        for method in methods:\n",
    "            if os.path.exists(f'../../results/n_shapley_values/{dataset}/{classifier}/observation_0_{method}_{num_datapoints}.JSON'):\n",
    "                shapley_values[dataset][classifier][method] = []\n",
    "                for i_datapoint in range(min(X_test.shape[0], 100)):\n",
    "                    fname = f'../../results/n_shapley_values/{dataset}/{classifier}/observation_{i_datapoint}_{method}_{num_datapoints}.JSON'\n",
    "                    if os.path.exists(fname):\n",
    "                        n_shapley_values = nshap.load(fname)\n",
    "                        shapley_values[dataset][classifier][method].append(n_shapley_values)\n",
    "                    else:\n",
    "                        print(f'File {fname} not found.')"
   ]
  },
  {
   "cell_type": "markdown",
   "metadata": {},
   "source": [
    "### Create directory structure"
   ]
  },
  {
   "cell_type": "code",
   "execution_count": null,
   "metadata": {},
   "outputs": [],
   "source": [
    "paths = ['../../figures/', '../../figures/partial_dependence/', '../../figures/shapley_gam/', '../../figures/n_shapley_values/']\n",
    "for p in paths:\n",
    "    if not os.path.exists( p ):\n",
    "        os.mkdir( p )"
   ]
  },
  {
   "cell_type": "markdown",
   "metadata": {},
   "source": [
    "### Plot Settings"
   ]
  },
  {
   "cell_type": "code",
   "execution_count": null,
   "metadata": {},
   "outputs": [],
   "source": [
    "# avoid type-3 fonts\n",
    "import matplotlib\n",
    "matplotlib.rcParams['pdf.fonttype'] = 42\n",
    "matplotlib.rcParams['ps.fonttype'] = 42"
   ]
  },
  {
   "cell_type": "code",
   "execution_count": null,
   "metadata": {},
   "outputs": [],
   "source": [
    "rotation = {'folk_income': 60, 'folk_travel': 60, 'housing': 60, 'credit': 60, 'iris': 0}"
   ]
  },
  {
   "cell_type": "code",
   "execution_count": null,
   "metadata": {},
   "outputs": [],
   "source": [
    "sns.set_style(\"whitegrid\")\n",
    "sns.set_context(\"notebook\", rc={'axes.linewidth': 2, 'grid.linewidth': 1},  font_scale=2)"
   ]
  },
  {
   "cell_type": "code",
   "execution_count": null,
   "metadata": {},
   "outputs": [],
   "source": [
    "def asdjust_ylim(axlist):\n",
    "    ymin = min([x.get_ylim()[0] for x in axlist])\n",
    "    ymax = max([x.get_ylim()[1] for x in axlist])\n",
    "    for ax in axlist:\n",
    "        ax.set_ylim((ymin, ymax))"
   ]
  },
  {
   "cell_type": "markdown",
   "metadata": {},
   "source": [
    "### Plots of n-Shapley Values"
   ]
  },
  {
   "cell_type": "code",
   "execution_count": null,
   "metadata": {},
   "outputs": [],
   "source": [
    "sns.set_style(\"whitegrid\")\n",
    "sns.set_context(\"notebook\", rc={'axes.linewidth': 2, 'grid.linewidth': 1},  font_scale=2.1)"
   ]
  },
  {
   "cell_type": "code",
   "execution_count": null,
   "metadata": {
    "tags": []
   },
   "outputs": [],
   "source": [
    "for dataset in data_sets:\n",
    "    feature_names = datasets.get_feature_names(dataset)\n",
    "    for classifier in classifiers:\n",
    "        for method in methods:\n",
    "            # different methods for different classifiers\n",
    "            if not method in shapley_values[dataset][classifier]: \n",
    "                continue\n",
    "            print(dataset, classifier, method)\n",
    "            for i_datapoint in range(5):\n",
    "                n_shapley_values = shapley_values[dataset][classifier][method][i_datapoint]\n",
    "                fig, ax = plt.subplots(1, 4, figsize=(22.5, 6.75))\n",
    "                ax0 = nshap.plot_n_shapley(n_shapley_values.k_shapley_values(1), axis=ax[0], legend=False, feature_names=feature_names, rotation=rotation[dataset])\n",
    "                ax0.set_ylabel('Feature Attribution')\n",
    "                ax0.set_title('Shapley Values')\n",
    "                ax1 = nshap.plot_n_shapley(n_shapley_values.k_shapley_values(2), axis=ax[1], legend=False, feature_names=feature_names, rotation=rotation[dataset])\n",
    "                ax1.set(yticklabels= []) \n",
    "                ax1.set_title('Shapley Interaction Values')\n",
    "                ax2 = nshap.plot_n_shapley(n_shapley_values.k_shapley_values(4), axis=ax[2], legend=False, feature_names=feature_names, rotation=rotation[dataset])\n",
    "                ax2.set(yticklabels= [])\n",
    "                ax2.set_title('4-Shapley Values')\n",
    "                ax3 = nshap.plot_n_shapley(n_shapley_values, axis=ax[3], legend=False, feature_names=feature_names, rotation=rotation[dataset])\n",
    "                ax3.set(yticklabels= []) \n",
    "                ax3.set_title('Shapley-GAM')\n",
    "                axes = [ax0, ax1, ax2, ax3]\n",
    "                ymin = min([x.get_ylim()[0] for x in axes])\n",
    "                ymax = max([x.get_ylim()[1] for x in axes])\n",
    "                for x in axes:\n",
    "                    x.set_ylim((ymin, ymax))\n",
    "                plt.tight_layout()\n",
    "                plt.savefig(f'../../figures/n_shapley_values/{dataset}_{classifier}_{method}_{i_datapoint}.pdf')\n",
    "                if i_datapoint == 0:\n",
    "                    plt.show()\n",
    "                plt.close(fig)"
   ]
  },
  {
   "cell_type": "markdown",
   "metadata": {},
   "source": [
    "### Plots of n-Shapley Values in the Appendix"
   ]
  },
  {
   "cell_type": "code",
   "execution_count": null,
   "metadata": {
    "tags": []
   },
   "outputs": [],
   "source": [
    "sns.set_style(\"whitegrid\")\n",
    "sns.set_context(\"notebook\", rc={'axes.linewidth': 2, 'grid.linewidth': 1},  font_scale=2.25)\n",
    "\n",
    "from itertools import product\n",
    "\n",
    "for dataset in data_sets:\n",
    "    feature_names = datasets.get_feature_names(dataset)\n",
    "    if dataset == 'iris':\n",
    "        continue\n",
    "    for classifier in classifiers:\n",
    "        method = 'proba'\n",
    "        if dataset == 'housing':\n",
    "            method = 'predict'\n",
    "        if classifier == 'gam':\n",
    "            method = 'decision'\n",
    "        print(dataset, classifier, method)\n",
    "        for i_datapoint in range(1):\n",
    "            n_shapley_values = shapley_values[dataset][classifier][method][i_datapoint]\n",
    "            if dataset == 'housing': # 8 features\n",
    "                ncols = 4\n",
    "                fig, ax = plt.subplots(2, ncols, figsize=(26, 14.75))\n",
    "            else: # 10 features\n",
    "                ncols = 5\n",
    "                fig, ax = plt.subplots(2, ncols, figsize=(32, 14.75))\n",
    "            for i in range(2):\n",
    "                for j in range(ncols):\n",
    "                    k = 1 + ncols*i + j\n",
    "                    nshap.plot_n_shapley(n_shapley_values.k_shapley_values(k), axis=ax[i, j], legend=False, feature_names=feature_names, rotation=rotation[dataset])\n",
    "                    ax[i, j].set_title(f'{k}-Shapley Values')\n",
    "            ax[0, 0].set_ylabel('Feature Attribution')\n",
    "            ax[1, 0].set_ylabel('Feature Attribution')\n",
    "            ax[0, 0].set_title('Shapley Values')\n",
    "            ax[0, 1].set_title('Shapley Interaction Values')\n",
    "            ax[1, ncols-1].set_title('Shapley-GAM')\n",
    "            axes = [ax[i,j] for (i,j) in product(range(2), range(ncols))]\n",
    "            asdjust_ylim(axes)\n",
    "            for j in range(ncols):\n",
    "                ax[0, j].set(xticklabels= [])\n",
    "            for i in range(2):\n",
    "                for j in range(1,ncols):\n",
    "                    ax[i, j].set(yticklabels= [])\n",
    "            plt.tight_layout()\n",
    "            plt.savefig(f'../../figures/n_shapley_values/apx_{dataset}_{classifier}_{method}_{i_datapoint}_full.pdf')\n",
    "            if i_datapoint == 0:\n",
    "                plt.show()\n",
    "            plt.close(fig)"
   ]
  },
  {
   "cell_type": "markdown",
   "metadata": {},
   "source": [
    "### Example Visualizations"
   ]
  },
  {
   "cell_type": "code",
   "execution_count": null,
   "metadata": {
    "tags": []
   },
   "outputs": [],
   "source": [
    "values = {(i,):0 for i in range(4)}\n",
    "values[(2,)] = 0.2\n",
    "values[(3,)] = -0.1\n",
    "n_shapley_values = nshap.nShapleyValues(values)\n",
    "        \n",
    "fig, ax = plt.subplots(1, 1, figsize=(5.5, 6))\n",
    "nshap.plot_n_shapley(n_shapley_values.k_shapley_values(1), legend=False, axis=ax)\n",
    "plt.tight_layout()\n",
    "plt.savefig('../../figures/example1.pdf')\n",
    "print(values)\n",
    "plt.show()\n",
    "\n",
    "values[(1,2)] = 0.1    \n",
    "fig, ax = plt.subplots(1, 1, figsize=(5.5, 6))\n",
    "nshap.plot_n_shapley(nshap.nShapleyValues(values), legend=False, axis=ax)\n",
    "plt.tight_layout()\n",
    "plt.savefig('../../figures/example2.pdf')\n",
    "print(values)\n",
    "plt.show()\n",
    "\n",
    "values[(2,3)] = -0.1 \n",
    "fig, ax = plt.subplots(1, 1, figsize=(5.5, 6))\n",
    "nshap.plot_n_shapley(nshap.nShapleyValues(values), legend=False, axis=ax)\n",
    "plt.tight_layout()\n",
    "plt.savefig('../../figures/example3.pdf')\n",
    "print(values)\n",
    "plt.show()\n",
    "\n",
    "values[(1,2,3)] = 0.1\n",
    "fig, ax = plt.subplots(1, 1, figsize=(5.5, 6))\n",
    "nshap.plot_n_shapley(nshap.nShapleyValues(values), legend=False, axis=ax)\n",
    "plt.tight_layout()\n",
    "plt.savefig('../../figures/example4.pdf')\n",
    "print(values)\n",
    "plt.show()\n",
    "\n",
    "values[(0,1,2,3)] = -0.1    \n",
    "fig, ax = plt.subplots(1, 1, figsize=(5.5, 6))\n",
    "nshap.plot_n_shapley(nshap.nShapleyValues(values), legend=False, axis=ax)\n",
    "plt.tight_layout()\n",
    "plt.savefig('../../figures/example5.pdf')\n",
    "print(values)\n",
    "plt.show()"
   ]
  },
  {
   "cell_type": "markdown",
   "metadata": {},
   "source": [
    "### The legend"
   ]
  },
  {
   "cell_type": "code",
   "execution_count": null,
   "metadata": {},
   "outputs": [],
   "source": [
    "import matplotlib.patches as mpatches\n",
    "from matplotlib.patches import Rectangle\n",
    "from matplotlib.transforms import Bbox\n",
    "\n",
    "fig, ax = plt.subplots(1, 1, figsize=(12, 1))\n",
    "\n",
    "# legend\n",
    "plot_colors = ['#1f77b4', '#ff7f0e', '#2ca02c', '#d62728', '#9467bd', '#8c564b', '#e377c2', '#7f7f7f', '#bcbd22', \n",
    "               '#17becf', 'black', '#1f77b4', '#ff7f0e', '#2ca02c', '#d62728', '#9467bd', '#8c564b', '#e377c2', '#7f7f7f', '#bcbd22', '#17becf']\n",
    "\n",
    "color_patches = [mpatches.Patch(color=color) for color in plot_colors]\n",
    "lables = ['Main']\n",
    "lables.append('2nd order')\n",
    "lables.append('3rd order')\n",
    "for i in range(4, 10):\n",
    "    lables.append(f'{i}th')\n",
    "lables.append('10th order')\n",
    "ax.legend(color_patches, lables, ncol=11, fontsize=30, handletextpad=0.5, handlelength=1, handleheight=1)\n",
    "plt.axis('off')\n",
    "plt.savefig(f'../../figures/legend.pdf', bbox_inches=Bbox([[-13.5, -0.2], [11, 0.9]]))\n",
    "plt.show()"
   ]
  },
  {
   "cell_type": "code",
   "execution_count": null,
   "metadata": {},
   "outputs": [],
   "source": [
    "import matplotlib.patches as mpatches\n",
    "from matplotlib.patches import Rectangle\n",
    "from matplotlib.transforms import Bbox\n",
    "\n",
    "fig, ax = plt.subplots(1, 1, figsize=(12, 1))\n",
    "\n",
    "# legend\n",
    "plot_colors = ['#1f77b4', '#ff7f0e', '#2ca02c', '#d62728', '#9467bd', '#8c564b', '#e377c2', '#7f7f7f', '#bcbd22', \n",
    "               '#17becf', 'black', '#1f77b4', '#ff7f0e', '#2ca02c', '#d62728', '#9467bd', '#8c564b', '#e377c2', '#7f7f7f', '#bcbd22', '#17becf']\n",
    "\n",
    "color_patches = [mpatches.Patch(color=color) for color in plot_colors]\n",
    "lables = ['Main']\n",
    "lables.append('2nd order')\n",
    "lables.append('3rd order')\n",
    "for i in range(4, 8):\n",
    "    lables.append(f'{i}th')\n",
    "ax.legend(color_patches, lables, ncol=11, fontsize=30, handletextpad=0.5, handlelength=1, handleheight=1)\n",
    "plt.axis('off')\n",
    "plt.savefig(f'../../figures/legend7.svg', bbox_inches=Bbox([[-13.5, -0.2], [11, 0.9]]))\n",
    "plt.show()"
   ]
  },
  {
   "cell_type": "markdown",
   "metadata": {},
   "source": [
    "### Shapley-GAM Figure in the paper"
   ]
  },
  {
   "cell_type": "code",
   "execution_count": null,
   "metadata": {},
   "outputs": [],
   "source": [
    "sns.set_style(\"whitegrid\")\n",
    "sns.set_context(\"notebook\", rc={'axes.linewidth': 2, 'grid.linewidth': 1},  font_scale=1.9)"
   ]
  },
  {
   "cell_type": "code",
   "execution_count": null,
   "metadata": {},
   "outputs": [],
   "source": [
    "fig, ax = plt.subplots(1, 1, figsize=(5.5, 6))\n",
    "ax = nshap.plot_n_shapley(shapley_values['credit']['gam']['decision'][0], axis=ax, legend=False, feature_names=datasets.get_feature_names('credit'), rotation=60)\n",
    "ax.set_ylabel('Feature Attribution')\n",
    "ax.set_title('Glassbox-GAM')\n",
    "plt.tight_layout()\n",
    "plt.savefig(f'../../figures/A.svg')\n",
    "plt.show()"
   ]
  },
  {
   "cell_type": "code",
   "execution_count": null,
   "metadata": {},
   "outputs": [],
   "source": [
    "fig, ax = plt.subplots(1, 1, figsize=(4.7, 6))\n",
    "ax = nshap.plot_n_shapley(shapley_values['housing']['gbtree']['predict'][0], axis=ax, legend=False, feature_names=datasets.get_feature_names('housing'), rotation=60)\n",
    "ax.set_title('Gradient Boosted Tree')\n",
    "print(ax.get_ylim())\n",
    "plt.tight_layout()\n",
    "plt.savefig(f'../../figures/B.svg')\n",
    "plt.show()"
   ]
  },
  {
   "cell_type": "code",
   "execution_count": null,
   "metadata": {},
   "outputs": [],
   "source": [
    "fig, ax = plt.subplots(1, 1, figsize=(5.5, 6))\n",
    "ax = nshap.plot_n_shapley(shapley_values['folk_travel']['knn']['proba'][1], axis=ax, legend=False, feature_names=datasets.get_feature_names('folk_travel'), rotation=60)\n",
    "ax.set_title('k-Nearest Neighbor')\n",
    "print(ax.get_ylim())\n",
    "ax.set_ylim((-0.32, 0.34))\n",
    "plt.tight_layout()\n",
    "plt.savefig(f'../../figures/C.svg')\n",
    "plt.show()"
   ]
  },
  {
   "cell_type": "code",
   "execution_count": null,
   "metadata": {},
   "outputs": [],
   "source": [
    "n_shapley_values = {}\n",
    "for S in nshap.powerset(range(8)):\n",
    "    if len(S) == 0:\n",
    "        continue\n",
    "    elif len(S) == 8:\n",
    "        n_shapley_values[S] = 1\n",
    "    else:\n",
    "        n_shapley_values[S] = 0 \n",
    "n_shapley_values = nshap.nShapleyValues(n_shapley_values)\n",
    "\n",
    "fig, ax = plt.subplots(1, 1, figsize=(4.7, 6))\n",
    "ax = nshap.plot_n_shapley(n_shapley_values, axis=ax, legend=False, rotation=60)\n",
    "ax.set_title('8d Checkerboard Function')\n",
    "print(ax.get_ylim())\n",
    "ax.set_ylim((-0.32, 0.34))\n",
    "plt.yticks([]) \n",
    "plt.tight_layout()\n",
    "plt.savefig(f'../../figures/D.svg')\n",
    "plt.show()"
   ]
  },
  {
   "cell_type": "markdown",
   "metadata": {},
   "source": [
    "### Partial dependence plots"
   ]
  },
  {
   "cell_type": "code",
   "execution_count": null,
   "metadata": {},
   "outputs": [],
   "source": [
    "sns.set_style(\"whitegrid\")\n",
    "sns.set_context(\"notebook\", rc={'axes.linewidth': 2, 'grid.linewidth': 1},  font_scale=2.6)"
   ]
  },
  {
   "cell_type": "code",
   "execution_count": null,
   "metadata": {
    "tags": []
   },
   "outputs": [],
   "source": [
    "for dataset in data_sets:\n",
    "    feature_names = datasets.get_feature_names(dataset)\n",
    "    X_train, X_test, _, _, _ = datasets.load_dataset(dataset)\n",
    "    num_datapoints = min(5000, X_train.shape[0]) \n",
    "    for classifier in classifiers:\n",
    "        method = 'proba'\n",
    "        if dataset == 'housing':\n",
    "            method = 'predict'\n",
    "        if classifier == 'gam':\n",
    "            method = 'decision'\n",
    "        print(dataset, classifier, method)\n",
    "        clf = paperutil.train_classifier(dataset, classifier)\n",
    "        for i_feature in range(len(feature_names)):\n",
    "            # collect data\n",
    "            x = []\n",
    "            nsv_list = []\n",
    "            for i_datapoint in range(100):\n",
    "                fname = f'../../results/n_shapley_values/{dataset}/{classifier}/observation_{i_datapoint}_{method}_{num_datapoints}.JSON'\n",
    "                if os.path.exists(fname):\n",
    "                    n_shapley_values = nshap.load(fname)\n",
    "                    if method == 'proba': \n",
    "                        # we computed the shapley values for the probablity of the predicted class\n",
    "                        # but here we want to explain the probability of class 1, for all data points\n",
    "                        prediction = int( clf.predict( X_test[i_datapoint, :].reshape((1,-1)) ) )\n",
    "                        x.append(X_test[i_datapoint, i_feature])\n",
    "                        if prediction == 0: \n",
    "                            n_shapley_values = nshap.nShapleyValues({k:-v for k,v in n_shapley_values.items()})\n",
    "                        nsv_list.append(n_shapley_values) \n",
    "                    else:\n",
    "                        x.append(X_test[i_datapoint, i_feature])\n",
    "                        nsv_list.append(n_shapley_values)\n",
    "                else:\n",
    "                    print(f'File {fname} not found')\n",
    "            # plot\n",
    "            fig, ax = plt.subplots(1, 4, figsize=(30, 5.5)) # appendix\n",
    "            #fig, ax = plt.subplots(1, 4, figsize=(30, 6)) # paper\n",
    "            y = [n_shapley_values.k_shapley_values(1)[(i_feature,)] for n_shapley_values in nsv_list]\n",
    "            ax0 = sns.scatterplot(x=x, y=y, ax=ax[0], s=150)\n",
    "            ax0.set_ylabel('Feature Attribution')\n",
    "            ax0.set_title('Shapley Values')\n",
    "            y = [n_shapley_values.k_shapley_values(2)[(i_feature,)] for n_shapley_values in nsv_list]\n",
    "            ax1 = sns.scatterplot(x=x, y=y, ax=ax[1], s=150)\n",
    "            ax1.set(yticklabels= []) \n",
    "            ax1.set_title('Shapley Interaction Values')\n",
    "            y = [n_shapley_values.k_shapley_values(4)[(i_feature,)] for n_shapley_values in nsv_list]\n",
    "            ax2 = sns.scatterplot(x=x, y=y, ax=ax[2], s=150)\n",
    "            ax2.set(yticklabels= [])\n",
    "            ax2.set_title('4-Shapley Values')\n",
    "            y = [n_shapley_values[(i_feature,)] for n_shapley_values in nsv_list]\n",
    "            ax3 = sns.scatterplot(x=x, y=y, ax=ax[3], s=150)\n",
    "            ax3.set(yticklabels= []) \n",
    "            ax3.set_title('Shapley-GAM')\n",
    "            axes = [ax0, ax1, ax2, ax3]\n",
    "            asdjust_ylim(axes)\n",
    "            for ax in axes:\n",
    "                ax.set_xlabel(f'Value of Feature {feature_names[i_feature]}')\n",
    "            plt.tight_layout()\n",
    "            plt.savefig(f'../../figures/partial_dependence/{dataset}_{classifier}_{i_feature}_{method}.pdf')\n",
    "            plt.show()\n",
    "            plt.close(fig)"
   ]
  },
  {
   "cell_type": "markdown",
   "metadata": {},
   "source": [
    "### Recovery of GAM without interaction terms"
   ]
  },
  {
   "cell_type": "code",
   "execution_count": null,
   "metadata": {},
   "outputs": [],
   "source": [
    "from interpret.glassbox import ExplainableBoostingClassifier"
   ]
  },
  {
   "cell_type": "code",
   "execution_count": null,
   "metadata": {},
   "outputs": [],
   "source": [
    "X_train, X_test, Y_train, Y_test, feature_names = datasets.load_dataset('folk_travel')"
   ]
  },
  {
   "cell_type": "code",
   "execution_count": null,
   "metadata": {},
   "outputs": [],
   "source": [
    "ebm = ExplainableBoostingClassifier(feature_names=feature_names, interactions=0, random_state=0)\n",
    "ebm.fit(X_train[:50000], Y_train[:50000])\n",
    "(ebm.predict(X_test) == Y_test).mean()"
   ]
  },
  {
   "cell_type": "code",
   "execution_count": null,
   "metadata": {
    "tags": []
   },
   "outputs": [],
   "source": [
    "from interpret.provider import InlineProvider\n",
    "from interpret import set_visualize_provider\n",
    "\n",
    "set_visualize_provider(InlineProvider())\n",
    "\n",
    "from interpret import show\n",
    "\n",
    "ebm_global = ebm.explain_global()\n",
    "show(ebm_global)"
   ]
  },
  {
   "cell_type": "markdown",
   "metadata": {},
   "source": [
    "#### Compute KernelShap explanations"
   ]
  },
  {
   "cell_type": "code",
   "execution_count": null,
   "metadata": {},
   "outputs": [],
   "source": [
    "import shap \n",
    "\n",
    "X_train_summary = shap.kmeans(X_train, 25)\n",
    "kernel_explainer = shap.KernelExplainer(ebm.decision_function, X_train_summary)"
   ]
  },
  {
   "cell_type": "code",
   "execution_count": null,
   "metadata": {
    "tags": []
   },
   "outputs": [],
   "source": [
    "kernel_shap_values = []\n",
    "for i in range(100):\n",
    "    kernel_shap_values.append( kernel_explainer.shap_values(X_test[i, :]) )"
   ]
  },
  {
   "cell_type": "code",
   "execution_count": null,
   "metadata": {},
   "outputs": [],
   "source": [
    "for ifeature in [1]:\n",
    "    print(f'---------------------------  {ifeature} ---------------------')\n",
    "    # partial influence of ifeature in the gam\n",
    "    x_ifeature = []\n",
    "    gam_v = []\n",
    "    for i in range(100):\n",
    "        x_hat = np.zeros((1,10))\n",
    "        x_hat[0, ifeature] = X_test[i, ifeature]\n",
    "        x_ifeature.append(X_test[i, ifeature])\n",
    "        gam_v.append(ebm.decision_function(x_hat)[0])\n",
    "    fig, ax = plt.subplots(1, 1, figsize=(6, 5))\n",
    "    sns.scatterplot(x_ifeature, gam_v-np.mean(gam_v))\n",
    "    plt.title('Explainable Boosting')\n",
    "    plt.xlabel(f'{feature_names[ifeature]}')\n",
    "    plt.ylabel(f'Score')\n",
    "    plt.tight_layout()\n",
    "    plt.savefig(f'../../figures/recovery_ebm.pdf')\n",
    "    plt.show()\n",
    "\n",
    "    # shapley value of feature i\n",
    "    shapley_v = []\n",
    "    for i in range(100):\n",
    "        shapley_v.append(kernel_shap_values[i][ifeature])\n",
    "    fig, ax = plt.subplots(1, 1, figsize=(6, 5))\n",
    "    sns.scatterplot(x_ifeature, shapley_v-np.mean(shapley_v))\n",
    "    plt.title('kernel SHAP')\n",
    "    plt.xlabel(f'{feature_names[ifeature]}')\n",
    "    plt.ylabel(f'Score')\n",
    "    plt.tight_layout()\n",
    "    plt.savefig(f'../../figures/recovery_kernel_shap.pdf')\n",
    "    plt.show()"
   ]
  },
  {
   "cell_type": "code",
   "execution_count": null,
   "metadata": {},
   "outputs": [],
   "source": [
    "sns.set_style(\"whitegrid\")\n",
    "sns.set_context(\"notebook\", rc={'axes.linewidth': 2, 'grid.linewidth': 1},  font_scale=1.4)\n",
    "\n",
    "img = plt.imread(\"../../figures/gam_curve.png\")\n",
    "fig, ax = plt.subplots(figsize=(7,4))\n",
    "ax.imshow(img, extent=[-2.1, 2.15, -0.99, 0.83], aspect='auto')\n",
    "sns.scatterplot(x_ifeature, shapley_v-np.mean(shapley_v), color='r', s=50)\n",
    "plt.xlabel(f'Value of Feature POWPUMA')\n",
    "plt.ylabel(f'Kernel SHAP Attribution')\n",
    "plt.tight_layout()\n",
    "plt.savefig(f'../../figures/recovery.svg')\n",
    "plt.show()"
   ]
  },
  {
   "cell_type": "markdown",
   "metadata": {},
   "source": [
    "### Accuracy vs Average Degree of Variable Interaction in the Shapley-GAM"
   ]
  },
  {
   "cell_type": "code",
   "execution_count": null,
   "metadata": {},
   "outputs": [],
   "source": [
    "accuracies = {}\n",
    "for dataset in data_sets:\n",
    "    X_train, X_test, Y_train, Y_test, feature_names = datasets.load_dataset(dataset)\n",
    "    is_classification = datasets.is_classification(dataset)\n",
    "    accuracies[dataset] = {}\n",
    "    for classifier in classifiers:\n",
    "        clf = paperutil.train_classifier(dataset, classifier)\n",
    "        # accuracy / mse\n",
    "        if is_classification:\n",
    "            accuracies[dataset][classifier] = sklearn.metrics.accuracy_score(Y_test, clf.predict(X_test))\n",
    "        else:\n",
    "            accuracies[dataset][classifier] = sklearn.metrics.mean_squared_error(Y_test, clf.predict(X_test))\n",
    "        print(dataset, classifier, accuracies[dataset][classifier])"
   ]
  },
  {
   "cell_type": "code",
   "execution_count": null,
   "metadata": {},
   "outputs": [],
   "source": [
    "complexities = {}\n",
    "for dataset in data_sets:\n",
    "    complexities[dataset] = {}\n",
    "    for classifier in classifiers:\n",
    "        method = 'proba'\n",
    "        if dataset == 'housing':\n",
    "            method = 'predict'\n",
    "        if method == 'proba' and classifier == 'svm':\n",
    "            continue\n",
    "        if classifier == 'gam':\n",
    "            method = 'decision'\n",
    "        v = []\n",
    "        for n_shapley_values in shapley_values[dataset][classifier][method]:  \n",
    "            degree_contributions = n_shapley_values.get_degree_contributions()\n",
    "            integral = np.sum(degree_contributions*list(range(1, len(degree_contributions)+1))) / np.sum(degree_contributions)\n",
    "            v.append(integral)\n",
    "        complexities[dataset][classifier] = np.mean(v)\n",
    "        print(dataset, classifier, np.mean(v))"
   ]
  },
  {
   "cell_type": "code",
   "execution_count": null,
   "metadata": {},
   "outputs": [],
   "source": [
    "sns.set_theme(font_scale=1.3)\n",
    "\n",
    "x = []\n",
    "y = []\n",
    "hue = []\n",
    "style = []\n",
    "for dataset in data_sets:\n",
    "    if dataset == 'housing':\n",
    "        continue\n",
    "    for classifier in classifiers:\n",
    "        x.append(complexities[dataset][classifier])\n",
    "        y.append(accuracies[dataset][classifier])\n",
    "        hue.append(dataset)\n",
    "        style.append(classifier)\n",
    "        \n",
    "fig, ax = plt.subplots(1, 1, figsize=(6, 3))\n",
    "ax = sns.scatterplot(x, y, hue=hue, style=style, s=200)\n",
    "\n",
    "handles, labels = ax.get_legend_handles_labels()\n",
    "plt.legend(ncol=1, \n",
    "           bbox_to_anchor = (1., 1.03),\n",
    "           handles=[handles[i] for i in [3, 0, 2, 1, 4, 6, 5, 7]], \n",
    "           labels=['Iris', 'Income', 'Credit', 'Travel', 'GAM', 'GBTree', 'RF', 'KNN'],\n",
    "           frameon=True,\n",
    "           fontsize=12,\n",
    "           markerscale = 1.8)\n",
    "\n",
    "plt.ylabel('Accuracy')\n",
    "plt.xlabel('Average Degree of Variable Interaction in Shapley-GAM')\n",
    "ax.set_xticks([1,2,3,4,5])\n",
    "ax.set_xlim([0.85,5])\n",
    "ax.set_ylim([0.6, 1.025])\n",
    "ax.set_yticks([0.6, 0.7, 0.8, 0.9, 1.0])\n",
    "plt.tight_layout()\n",
    "plt.savefig(f'../../figures/accuracy_interaction.svg')\n",
    "plt.show()"
   ]
  }
 ],
 "metadata": {
  "kernelspec": {
   "display_name": "Python 3",
   "language": "python",
   "name": "python3"
  },
  "language_info": {
   "codemirror_mode": {
    "name": "ipython",
    "version": 3
   },
   "file_extension": ".py",
   "mimetype": "text/x-python",
   "name": "python",
   "nbconvert_exporter": "python",
   "pygments_lexer": "ipython3",
   "version": "3.8.3"
  }
 },
 "nbformat": 4,
 "nbformat_minor": 4
}
