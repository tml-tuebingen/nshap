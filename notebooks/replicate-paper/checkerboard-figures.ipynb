{
 "cells": [
  {
   "cell_type": "markdown",
   "metadata": {},
   "source": [
    "# Figures for the checkerboard function"
   ]
  },
  {
   "cell_type": "code",
   "execution_count": null,
   "metadata": {},
   "outputs": [],
   "source": [
    "import matplotlib.pyplot as plt\n",
    "import seaborn as sns\n",
    "\n",
    "sns.set_style(\"whitegrid\")\n",
    "sns.set_context(\"notebook\", rc={'axes.linewidth': 2, 'grid.linewidth': 1},  font_scale=1.5)\n",
    "\n",
    "import numpy as np\n",
    "import nshap\n",
    "import os"
   ]
  },
  {
   "cell_type": "markdown",
   "metadata": {},
   "source": [
    "### Visualization in 2d"
   ]
  },
  {
   "cell_type": "code",
   "execution_count": null,
   "metadata": {},
   "outputs": [],
   "source": [
    "from paperutil import checkerboard_function\n",
    "\n",
    "d = 2\n",
    "num_points = 1000\n",
    "f = checkerboard_function(2, 4)\n",
    "X = np.random.uniform(0, 1, size=(num_points, d))\n",
    "Y = f(X)\n",
    "\n",
    "sns.scatterplot(x=X[:, 0], y=X[:, 1], hue=Y)\n",
    "plt.show()"
   ]
  },
  {
   "cell_type": "markdown",
   "metadata": {},
   "source": [
    "### Load the pre-computed n-Shpaley Values"
   ]
  },
  {
   "cell_type": "code",
   "execution_count": null,
   "metadata": {
    "tags": []
   },
   "outputs": [],
   "source": [
    "results = {}\n",
    "for degree in range(2, 11):\n",
    "    results[degree] = {}\n",
    "    for num_samples in [100, 1000, 10000, 100000, 1000000]:\n",
    "        results[degree][num_samples] = []\n",
    "        for replication in range(10):\n",
    "            fname = f'../../results/n_shapley_values/checkerboard/{degree}d_checkerboard_{num_samples}_samples_replication_{replication}.JSON'\n",
    "            if os.path.exists(fname):\n",
    "                results[degree][num_samples].append( nshap.load(fname) )"
   ]
  },
  {
   "cell_type": "markdown",
   "metadata": {},
   "source": [
    "### Correctly estimated fractions"
   ]
  },
  {
   "cell_type": "code",
   "execution_count": null,
   "metadata": {
    "tags": []
   },
   "outputs": [],
   "source": [
    "sns.set_style(\"whitegrid\")\n",
    "sns.set_context(\"notebook\", rc={'axes.linewidth': 2, 'grid.linewidth': 2},  font_scale=2)\n",
    "\n",
    "plt.figure(figsize=(12.5, 8))\n",
    "for checkerboard_dim in range(2, 11):\n",
    "    y = []\n",
    "    for num_samples in [100, 1000, 10000, 100000, 1000000]:\n",
    "        yy = []\n",
    "        for x in results[checkerboard_dim][num_samples]:\n",
    "            true_order = np.sum([np.abs(v) for k, v in x.items() if len(k) == checkerboard_dim]) \n",
    "            all_orders = np.sum([np.abs(v) for k, v in x.items()])\n",
    "            yy.append(true_order / all_orders)\n",
    "        y.append(np.mean(yy))\n",
    "    sns.scatterplot(x=[1,2,3,4,5], y=y, color=sns.color_palette(\"tab10\")[checkerboard_dim-1], s=200)\n",
    "    plt.plot([1,2,3,4,5], y, c=sns.color_palette(\"colorblind\")[checkerboard_dim-1], ls='--', lw=1.5)\n",
    "plt.ylim([-0.04, 1.04])\n",
    "plt.yticks(np.arange(0, 1.1, 0.1))\n",
    "plt.xticks([1,2,3,4,5], ['100', '1000', '10 000', '100 000', '1 000 000'])\n",
    "plt.xlabel('Number of points sampled to estimate the value function')\n",
    "plt.ylabel('Fraction of checkerboard function\\nthat is correctly estimated')\n",
    "plt.savefig('../../figures/checkerboard_estimation.pdf')\n",
    "plt.show()"
   ]
  },
  {
   "cell_type": "markdown",
   "metadata": {},
   "source": [
    "### Plots for individual degrees"
   ]
  },
  {
   "cell_type": "code",
   "execution_count": null,
   "metadata": {},
   "outputs": [],
   "source": [
    "sns.set_style(\"whitegrid\")\n",
    "sns.set_context(\"notebook\", rc={'axes.linewidth': 2, 'grid.linewidth': 2},  font_scale=2)\n",
    "\n",
    "for checkerboard_dim in range(2, 11):    \n",
    "    plt.figure(figsize=(6, 6))\n",
    "    plt.ylim([-0.04, 1.04])\n",
    "    for interaction_order in range(1,11):\n",
    "        y, y_min, y_max = [], [], [] \n",
    "        for num_samples in [100, 1000, 10000, 100000, 1000000]:\n",
    "            yy = []\n",
    "            for x in results[checkerboard_dim][num_samples]:\n",
    "                order_sum =  np.sum([np.abs(v) for k, v in x.items() if len(k) == interaction_order]) \n",
    "                all_sum = np.sum([np.abs(v) for k, v in x.items()])\n",
    "                yy.append(order_sum / all_sum)\n",
    "            y.append(np.mean(yy))\n",
    "            y_min.append(np.min(yy))\n",
    "            y_max.append(np.max(yy))\n",
    "        if np.max(y) > 0.01:\n",
    "            sns.scatterplot(x=[1,2,3,4,5], y=y, color=sns.color_palette(\"tab10\")[interaction_order-1], s=200)\n",
    "            plt.plot([1,2,3,4,5], y, c=sns.color_palette(\"colorblind\")[interaction_order-1], ls='--', lw=1.5)\n",
    "            # convert y_min and y_max from y coordinates to plot range\n",
    "            y_min = [x/1.08+0.04 for x in y_min]\n",
    "            y_max = [x/1.08+0.04 for x in y_max]\n",
    "            for x_pos in [1,2,3,4,5]:\n",
    "                plt.axvline(x=x_pos, ymin=y_min[x_pos-1], ymax=y_max[x_pos-1], c=sns.color_palette(\"colorblind\")[interaction_order-1], lw=4)\n",
    "    plt.yticks(np.arange(0, 1.1, 0.1))\n",
    "    plt.xticks([1,2,3,4,5], ['100', '1000', '10 000', '100 000', '1 000 000'], rotation=20)\n",
    "    plt.title(f'{checkerboard_dim}d Checkerboard Function')\n",
    "    plt.xlabel('Number of points sampled')\n",
    "    plt.ylabel('Order of estimated effects')\n",
    "    plt.tight_layout()\n",
    "    plt.savefig(f'../../figures/{checkerboard_dim}_checkerboard_estimation.pdf')\n",
    "    plt.show()"
   ]
  }
 ],
 "metadata": {
  "kernelspec": {
   "display_name": "Python 3",
   "language": "python",
   "name": "python3"
  },
  "language_info": {
   "codemirror_mode": {
    "name": "ipython",
    "version": 3
   },
   "file_extension": ".py",
   "mimetype": "text/x-python",
   "name": "python",
   "nbconvert_exporter": "python",
   "pygments_lexer": "ipython3",
   "version": "3.8.3"
  }
 },
 "nbformat": 4,
 "nbformat_minor": 5
}
