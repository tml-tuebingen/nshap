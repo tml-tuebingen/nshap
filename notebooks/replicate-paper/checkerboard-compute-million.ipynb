{
 "cells": [
  {
   "cell_type": "markdown",
   "metadata": {},
   "source": [
    "# Compute for the checkerboard function"
   ]
  },
  {
   "cell_type": "code",
   "execution_count": null,
   "metadata": {
    "tags": [
     "parameters"
    ]
   },
   "outputs": [],
   "source": [
    "# papermill parameter: notebook id\n",
    "aid = 0"
   ]
  },
  {
   "cell_type": "code",
   "execution_count": null,
   "metadata": {},
   "outputs": [],
   "source": [
    "import matplotlib.pyplot as plt\n",
    "import seaborn as sns\n",
    "\n",
    "import numpy as np\n",
    "import os\n",
    "\n",
    "sns.set_style(\"whitegrid\")\n",
    "sns.set_context(\"notebook\", rc={'axes.linewidth': 2, 'grid.linewidth': 1},  font_scale=1.5)\n",
    "\n",
    "from itertools import product\n",
    "\n",
    "import nshap\n",
    "\n",
    "from paperutil import checkerboard_function"
   ]
  },
  {
   "cell_type": "markdown",
   "metadata": {},
   "source": [
    "### The different compute jobs, and the current job"
   ]
  },
  {
   "cell_type": "code",
   "execution_count": null,
   "metadata": {},
   "outputs": [],
   "source": [
    "interaction_orders = [2, 3, 4, 5, 6, 7, 8, 9, 10]\n",
    "replications = list(range(10))\n",
    "\n",
    "all_jobs = list(product(interaction_orders, replications))\n",
    "print(len(all_jobs), 'different compute jobs')"
   ]
  },
  {
   "cell_type": "code",
   "execution_count": null,
   "metadata": {},
   "outputs": [],
   "source": [
    "interaction_order = all_jobs[aid][0]\n",
    "replication = all_jobs[aid][1]"
   ]
  },
  {
   "cell_type": "markdown",
   "metadata": {},
   "source": [
    "### Create output dir structure, if it does not already exist"
   ]
  },
  {
   "cell_type": "code",
   "execution_count": null,
   "metadata": {},
   "outputs": [],
   "source": [
    "paths = ['../../results/', \n",
    "         '../../results/n_shapley_values/', \n",
    "         '../../results/n_shapley_values/checkerboard/']\n",
    "for p in paths:\n",
    "    if not os.path.exists( p ):\n",
    "        os.mkdir( p )"
   ]
  },
  {
   "cell_type": "markdown",
   "metadata": {},
   "source": [
    "### Compute n-Shapley Values for a k-dimensional checkerboard in a 10-dimensional space"
   ]
  },
  {
   "cell_type": "code",
   "execution_count": null,
   "metadata": {},
   "outputs": [],
   "source": [
    "d = 10\n",
    "f = checkerboard_function(interaction_order, num_checkers=100)"
   ]
  },
  {
   "cell_type": "code",
   "execution_count": null,
   "metadata": {
    "tags": []
   },
   "outputs": [],
   "source": [
    "np.random.seed(replication)\n",
    "\n",
    "for num_samples in [1000000]:\n",
    "    X_train = np.random.uniform(0, 1, size=(1000000, d))\n",
    "    X_test = np.random.uniform(0, 1, size=(1, d))\n",
    "    vfunc = vfunc = nshap.vfunc.interventional_shap(f, X_train, num_samples = num_samples, random_state=replication)\n",
    "    n_shapley_values = nshap.n_shapley_values(X_test[0, :], vfunc)\n",
    "    n_shapley_values.save(f'../../results/n_shapley_values/checkerboard/{interaction_order}d_checkerboard_{num_samples}_samples_replication_{replication}.JSON')\n",
    "    n_shapley_values.plot()"
   ]
  }
 ],
 "metadata": {
  "kernelspec": {
   "display_name": "Python 3",
   "language": "python",
   "name": "python3"
  },
  "language_info": {
   "codemirror_mode": {
    "name": "ipython",
    "version": 3
   },
   "file_extension": ".py",
   "mimetype": "text/x-python",
   "name": "python",
   "nbconvert_exporter": "python",
   "pygments_lexer": "ipython3",
   "version": "3.8.3"
  }
 },
 "nbformat": 4,
 "nbformat_minor": 5
}
