{
 "cells": [
  {
   "cell_type": "markdown",
   "metadata": {},
   "source": [
    "# Estimating n-Shapley Values for the kNN classifier on the Folktables Travel data set"
   ]
  },
  {
   "cell_type": "code",
   "execution_count": null,
   "metadata": {},
   "outputs": [],
   "source": [
    "import matplotlib.pyplot as plt\n",
    "import seaborn as sns\n",
    "\n",
    "sns.set_style(\"whitegrid\")\n",
    "sns.set_context(\"notebook\", rc={'axes.linewidth': 2, 'grid.linewidth': 1},  font_scale=2.1)\n",
    "\n",
    "import datasets\n",
    "import nshap"
   ]
  },
  {
   "cell_type": "markdown",
   "metadata": {},
   "source": [
    "### Load the data"
   ]
  },
  {
   "cell_type": "code",
   "execution_count": null,
   "metadata": {},
   "outputs": [],
   "source": [
    "_, X_test, _, _, feature_names = datasets.load_dataset('folk_travel')"
   ]
  },
  {
   "cell_type": "markdown",
   "metadata": {},
   "source": [
    "### Load the pre-computed n-Shapley Values"
   ]
  },
  {
   "cell_type": "code",
   "execution_count": null,
   "metadata": {},
   "outputs": [],
   "source": [
    "n_shapley_values = nshap.load('../../results/n_shapley_values/folk_travel/knn/observation_0_proba_500.JSON')\n",
    "n_shapley_values_5000 = nshap.load('../../results/n_shapley_values/folk_travel/knn/observation_0_proba_5000.JSON')"
   ]
  },
  {
   "cell_type": "code",
   "execution_count": null,
   "metadata": {},
   "outputs": [],
   "source": [
    "def vfunc(x, S):\n",
    "    S = tuple(S)\n",
    "    fname = f'../../results/n_shapley_values/folk_travel/knn/observation_0_proba_133549/v{S}.txt'   \n",
    "    with open(fname, 'r') as f:\n",
    "        result = float( f.read() )\n",
    "    return result"
   ]
  },
  {
   "cell_type": "code",
   "execution_count": null,
   "metadata": {},
   "outputs": [],
   "source": [
    "n_shapley_values_133549 = nshap.n_shapley_values(X_test[0, :], vfunc)"
   ]
  },
  {
   "cell_type": "markdown",
   "metadata": {},
   "source": [
    "### Plots"
   ]
  },
  {
   "cell_type": "code",
   "execution_count": null,
   "metadata": {},
   "outputs": [],
   "source": [
    "for idx, v in enumerate([n_shapley_values, n_shapley_values_5000, n_shapley_values_133549]):\n",
    "    fig, ax = plt.subplots(1, 1, figsize=(7, 7.9))\n",
    "    v.plot(axis=ax, legend=False, feature_names=feature_names, rotation=60)\n",
    "    plt.ylim([-0.295, 0.29])\n",
    "    plt.title(f'Shapey-GAM, {[\"500\", \"5000\", \"133549\"][idx]} Samples')\n",
    "    plt.tight_layout()\n",
    "    plt.savefig(f'../../figures/knn_estimation_{idx}.pdf')\n",
    "    plt.show()"
   ]
  },
  {
   "cell_type": "markdown",
   "metadata": {},
   "source": [
    "### Latex code for Table in Appendix"
   ]
  },
  {
   "cell_type": "code",
   "execution_count": null,
   "metadata": {
    "tags": []
   },
   "outputs": [],
   "source": [
    "for S in nshap.powerset(list(range(10))):\n",
    "    if len(S) == 0:\n",
    "        continue\n",
    "    print(f'{S} & {n_shapley_values[S]:0.4f} & {n_shapley_values_5000[S]:0.4f} & {n_shapley_values_133549[S]:0.4f} \\\\\\\\')"
   ]
  }
 ],
 "metadata": {
  "kernelspec": {
   "display_name": "Python 3",
   "language": "python",
   "name": "python3"
  },
  "language_info": {
   "codemirror_mode": {
    "name": "ipython",
    "version": 3
   },
   "file_extension": ".py",
   "mimetype": "text/x-python",
   "name": "python",
   "nbconvert_exporter": "python",
   "pygments_lexer": "ipython3",
   "version": "3.8.3"
  }
 },
 "nbformat": 4,
 "nbformat_minor": 5
}
