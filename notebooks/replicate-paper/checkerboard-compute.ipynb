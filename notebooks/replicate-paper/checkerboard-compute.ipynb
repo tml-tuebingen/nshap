{
 "cells": [
  {
   "cell_type": "markdown",
   "metadata": {},
   "source": [
    "# Compute for the checkerboard function"
   ]
  },
  {
   "cell_type": "code",
   "execution_count": null,
   "metadata": {
    "tags": [
     "parameters"
    ]
   },
   "outputs": [],
   "source": [
    "# papermill parameter: notebook id\n",
    "aid = 0"
   ]
  },
  {
   "cell_type": "code",
   "execution_count": null,
   "metadata": {},
   "outputs": [],
   "source": [
    "import matplotlib.pyplot as plt\n",
    "import seaborn as sns\n",
    "\n",
    "import numpy as np\n",
    "import os\n",
    "\n",
    "sns.set_style(\"whitegrid\")\n",
    "sns.set_context(\"notebook\", rc={'axes.linewidth': 2, 'grid.linewidth': 1},  font_scale=1.5)\n",
    "\n",
    "import nshap\n",
    "\n",
    "from paperutil import checkerboard_function"
   ]
  },
  {
   "cell_type": "code",
   "execution_count": null,
   "metadata": {},
   "outputs": [],
   "source": [
    "interaction_order = [2, 3, 4, 5, 6, 7, 8, 9, 10]\n",
    "\n",
    "all_jobs = list(interaction_order)\n",
    "print(len(all_jobs), 'different compute jobs')"
   ]
  },
  {
   "cell_type": "markdown",
   "metadata": {},
   "source": [
    "### Create output dir structure, if it does not already exist"
   ]
  },
  {
   "cell_type": "code",
   "execution_count": null,
   "metadata": {},
   "outputs": [],
   "source": [
    "paths = ['../../results/', \n",
    "         '../../results/n_shapley_values/', \n",
    "         '../../results/n_shapley_values/checkerboard/']\n",
    "for p in paths:\n",
    "    if not os.path.exists( p ):\n",
    "        os.mkdir( p )"
   ]
  },
  {
   "cell_type": "markdown",
   "metadata": {},
   "source": [
    "### Compute n-Shapley Values for a k-dimensional checkerboard in a 10-dimensional space"
   ]
  },
  {
   "cell_type": "code",
   "execution_count": null,
   "metadata": {},
   "outputs": [],
   "source": [
    "d = 10\n",
    "f = checkerboard_function(interaction_order[aid], num_checkers=100)"
   ]
  },
  {
   "cell_type": "code",
   "execution_count": null,
   "metadata": {
    "tags": []
   },
   "outputs": [],
   "source": [
    "for num_samples in [100, 1000, 10000, 100000]:\n",
    "    result = []\n",
    "    for replication in range(10):  \n",
    "        X_train = np.random.uniform(0, 1, size=(1000000, d))\n",
    "        X_test = np.random.uniform(0, 1, size=(1, d))\n",
    "        vfunc = vfunc = nshap.vfunc.interventional_shap(f, X_train, num_samples = num_samples)\n",
    "        n_shapley_values = nshap.n_shapley_values(X_test[0, :], vfunc)\n",
    "        n_shapley_values.save(f'../../results/n_shapley_values/checkerboard/{interaction_order[aid]}d_checkerboard_{num_samples}_samples_replication_{replication}.JSON')\n",
    "        n_shapley_values.plot()\n",
    "        true_order = np.sum([np.abs(v) for k, v in n_shapley_values.items() if len(k) == interaction_order[aid]]) \n",
    "        all_orders = np.sum([np.abs(v) for k, v in n_shapley_values.items()])\n",
    "        result.append(true_order / all_orders)\n",
    "    print(f'{interaction_order[aid]}, {num_samples}, {np.mean(result)}, {result}')"
   ]
  }
 ],
 "metadata": {
  "kernelspec": {
   "display_name": "Python 3",
   "language": "python",
   "name": "python3"
  },
  "language_info": {
   "codemirror_mode": {
    "name": "ipython",
    "version": 3
   },
   "file_extension": ".py",
   "mimetype": "text/x-python",
   "name": "python",
   "nbconvert_exporter": "python",
   "pygments_lexer": "ipython3",
   "version": "3.8.3"
  }
 },
 "nbformat": 4,
 "nbformat_minor": 5
}
