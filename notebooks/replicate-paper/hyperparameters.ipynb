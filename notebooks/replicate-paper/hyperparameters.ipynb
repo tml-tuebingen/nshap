{
 "cells": [
  {
   "cell_type": "markdown",
   "metadata": {},
   "source": [
    "# Hyperparameter tuning"
   ]
  },
  {
   "cell_type": "code",
   "execution_count": null,
   "metadata": {},
   "outputs": [],
   "source": [
    "import datasets\n",
    "import nshap\n",
    "\n",
    "import xgboost\n",
    "import sklearn\n",
    "from sklearn.ensemble import RandomForestClassifier,RandomForestRegressor\n",
    "from sklearn.neighbors import KNeighborsClassifier, KNeighborsRegressor\n",
    "from sklearn.svm import SVC, SVR\n",
    "from interpret.glassbox import ExplainableBoostingClassifier, ExplainableBoostingRegressor\n",
    "\n",
    "from sklearn.model_selection import GridSearchCV\n",
    "\n",
    "%load_ext autoreload\n",
    "%autoreload 2"
   ]
  },
  {
   "cell_type": "code",
   "execution_count": null,
   "metadata": {},
   "outputs": [],
   "source": [
    "data_sets = ['folk_income', 'folk_travel', 'housing', 'credit', 'iris']"
   ]
  },
  {
   "cell_type": "markdown",
   "metadata": {},
   "source": [
    "### kNN"
   ]
  },
  {
   "cell_type": "code",
   "execution_count": null,
   "metadata": {},
   "outputs": [],
   "source": [
    "param_grid = {'n_neighbors': [1, 2, 3, 4, 5, 6, 7, 10, 15, 20, 25, 30, 50, 80]}\n",
    "              \n",
    "for data_set in data_sets:\n",
    "    X_train, X_test, Y_train, Y_test, feature_names = datasets.load_dataset(data_set)\n",
    "    is_classification = datasets.is_classification(data_set)\n",
    "    print(data_set, is_classification, feature_names)\n",
    "              \n",
    "    if is_classification:\n",
    "        clf = GridSearchCV(KNeighborsClassifier(), param_grid)  \n",
    "        clf.fit(X_train, Y_train)\n",
    "    else:    \n",
    "        clf = GridSearchCV(KNeighborsRegressor(), param_grid)\n",
    "        clf.fit(X_train, Y_train)\n",
    "              \n",
    "    print(clf.best_params_)\n",
    "    if is_classification:\n",
    "        print( sklearn.metrics.accuracy_score(Y_test, clf.predict(X_test)) )\n",
    "    else:\n",
    "        print( sklearn.metrics.mean_squared_error(Y_test, clf.predict(X_test)) )"
   ]
  },
  {
   "cell_type": "code",
   "execution_count": null,
   "metadata": {},
   "outputs": [],
   "source": [
    "knn_k = {'folk_income': 30, \n",
    "         'folk_travel': 80, \n",
    "         'housing': 10, \n",
    "         'diabetes': 15, \n",
    "         'credit': 25,\n",
    "         'iris': 1} "
   ]
  },
  {
   "cell_type": "code",
   "execution_count": null,
   "metadata": {},
   "outputs": [],
   "source": [
    "knn_k"
   ]
  }
 ],
 "metadata": {
  "kernelspec": {
   "display_name": "Python 3",
   "language": "python",
   "name": "python3"
  },
  "language_info": {
   "codemirror_mode": {
    "name": "ipython",
    "version": 3
   },
   "file_extension": ".py",
   "mimetype": "text/x-python",
   "name": "python",
   "nbconvert_exporter": "python",
   "pygments_lexer": "ipython3",
   "version": "3.8.3"
  }
 },
 "nbformat": 4,
 "nbformat_minor": 5
}
